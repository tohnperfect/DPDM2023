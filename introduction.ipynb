{
  "nbformat": 4,
  "nbformat_minor": 0,
  "metadata": {
    "colab": {
      "provenance": [],
      "authorship_tag": "ABX9TyOP5iMj6wFAPE1fKXS0Sy3Y",
      "include_colab_link": true
    },
    "kernelspec": {
      "name": "python3",
      "display_name": "Python 3"
    },
    "language_info": {
      "name": "python"
    }
  },
  "cells": [
    {
      "cell_type": "markdown",
      "metadata": {
        "id": "view-in-github",
        "colab_type": "text"
      },
      "source": [
        "<a href=\"https://colab.research.google.com/github/tohnperfect/DPDM2023/blob/main/introduction.ipynb\" target=\"_parent\"><img src=\"https://colab.research.google.com/assets/colab-badge.svg\" alt=\"Open In Colab\"/></a>"
      ]
    },
    {
      "cell_type": "markdown",
      "source": [
        "# This is the introduction section\n",
        "## My name is Thanapong"
      ],
      "metadata": {
        "id": "d5MIKKgnqwAc"
      }
    },
    {
      "cell_type": "code",
      "source": [
        "print('KKU')"
      ],
      "metadata": {
        "colab": {
          "base_uri": "https://localhost:8080/"
        },
        "id": "rxH7pw9mqr2U",
        "outputId": "e4a40354-8d81-46ad-a290-2f9aa492c24f"
      },
      "execution_count": 2,
      "outputs": [
        {
          "output_type": "stream",
          "name": "stdout",
          "text": [
            "KKU\n"
          ]
        }
      ]
    },
    {
      "cell_type": "code",
      "execution_count": 4,
      "metadata": {
        "id": "9v840RusoMm1",
        "colab": {
          "base_uri": "https://localhost:8080/"
        },
        "outputId": "5f9e7274-76ac-40d3-9d19-d2d1d5ffdee2"
      },
      "outputs": [
        {
          "output_type": "stream",
          "name": "stdout",
          "text": [
            "11\n"
          ]
        }
      ],
      "source": [
        "a = 5  #assign a value to variable a\n",
        "b = a+6  #assign b to be a+6\n",
        "print(b)  #print a value in b"
      ]
    },
    {
      "cell_type": "code",
      "source": [],
      "metadata": {
        "id": "pEfLd5UiuRQ7"
      },
      "execution_count": null,
      "outputs": []
    }
  ]
}